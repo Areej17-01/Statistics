{
 "cells": [
  {
   "cell_type": "markdown",
   "id": "1eba0cba",
   "metadata": {},
   "source": [
    "## Measures of center"
   ]
  },
  {
   "cell_type": "markdown",
   "id": "908558c6",
   "metadata": {},
   "source": [
    "##### Mean and median\n",
    "In this chapter, you'll be working with the 2018 Food Carbon Footprint Index from nu3. The food_consumption dataset contains information about the kilograms of food consumed per person per year in each country in each food category (consumption) as well as information about the carbon footprint of that food category (co2_emissions) measured in kilograms of carbon dioxide, or CO2, per person per year in each country.\n",
    "\n",
    "In this exercise, you'll compute measures of center to compare food consumption in the US and Belgium using your pandas and numpy skills.\n",
    "\n",
    "pandas is imported as pd for you and food_consumption is pre-loaded.\n",
    "\n"
   ]
  },
  {
   "cell_type": "markdown",
   "id": "21c04cb9",
   "metadata": {},
   "source": [
    "1)\n",
    "Import numpy with the alias np.\n",
    "Create two DataFrames: one that holds the rows of food_consumption for 'Belgium' and another that holds rows for 'USA'. Call these be_consumption and usa_consumption.\n",
    "Calculate the mean and median of kilograms of food consumed per person per year for both countries."
   ]
  },
  {
   "cell_type": "code",
   "execution_count": null,
   "id": "6141cb18",
   "metadata": {},
   "outputs": [],
   "source": [
    "import numpy as np\n",
    "import pandas as pd\n",
    "\n",
    "# Assuming food_consumption is already loaded\n",
    "\n",
    "# Create DataFrames for Belgium and USA\n",
    "be_consumption = food_consumption[food_consumption['country'] == 'Belgium']\n",
    "usa_consumption = food_consumption[food_consumption['country'] == 'USA']\n",
    "\n",
    "# Calculate mean and median for Belgium\n",
    "be_mean_consumption = be_consumption['consumption'].mean()\n",
    "be_median_consumption = be_consumption['consumption'].median()\n",
    "\n",
    "# Calculate mean and median for USA\n",
    "usa_mean_consumption = usa_consumption['consumption'].mean()\n",
    "usa_median_consumption = usa_consumption['consumption'].median()\n",
    "\n",
    "print(\"Belgium:\")\n",
    "print(\"Mean consumption:\", be_mean_consumption)\n",
    "print(\"Median consumption:\", be_median_consumption)\n",
    "\n",
    "print(\"\\nUSA:\")\n",
    "print(\"Mean consumption:\", usa_mean_consumption)\n",
    "print(\"Median consumption:\", usa_median_consumption)\n"
   ]
  },
  {
   "cell_type": "markdown",
   "id": "0c412285",
   "metadata": {},
   "source": [
    "2)Subset food_consumption for rows with data about Belgium and the USA.\n",
    "Group the subsetted data by country and select only the consumption column.\n",
    "Calculate the mean and median of the kilograms of food consumed per person per year in each country using .agg()."
   ]
  },
  {
   "cell_type": "code",
   "execution_count": null,
   "id": "6d5fcf01",
   "metadata": {},
   "outputs": [],
   "source": [
    "# Import numpy as np\n",
    "import numpy as np\n",
    "\n",
    "# Subset for Belgium and USA only\n",
    "be_and_usa = food_consumption[(food_consumption['country'] == 'Belgium') | (food_consumption['country'] == 'USA')]\n",
    "\n",
    "# Group by country, select consumption column, and compute mean and median\n",
    "print(be_and_usa.groupby('country')['consumption'].agg([np.mean, np.median]))\n"
   ]
  },
  {
   "cell_type": "markdown",
   "id": "81567cc9",
   "metadata": {},
   "source": [
    "##### Mean vs. median\n",
    "In the video, you learned that the mean is the sum of all the data points divided by the total number of data points, and the median is the middle value of the dataset where 50% of the data is less than the median, and 50% of the data is greater than the median. In this exercise, you'll compare these two measures of center.\n",
    "\n",
    "pandas is loaded as pd, numpy is loaded as np, and food_consumption is available.\n"
   ]
  },
  {
   "cell_type": "markdown",
   "id": "a644aa05",
   "metadata": {},
   "source": [
    "\n",
    "2)\n",
    "Import matplotlib.pyplot with the alias plt.\n",
    "Subset food_consumption to get the rows where food_category is 'rice'.\n",
    "Create a histogram of co2_emission for rice and show the plot."
   ]
  },
  {
   "cell_type": "code",
   "execution_count": null,
   "id": "25328159",
   "metadata": {},
   "outputs": [],
   "source": [
    "import numpy as np\n",
    "import pandas as pd\n",
    "import matplotlib.pyplot as plt\n",
    "\n",
    "# Assuming food_consumption is already loaded\n",
    "\n",
    "# Subset data for 'rice' food category\n",
    "rice_consumption = food_consumption[food_consumption['food_category'] == 'rice']\n",
    "\n",
    "# Create a histogram of co2_emission for rice\n",
    "plt.hist(rice_consumption['co2_emission'], bins=20, edgecolor='black')\n",
    "plt.xlabel('CO2 Emissions')\n",
    "plt.ylabel('Frequency')\n",
    "plt.title('Histogram of CO2 Emissions for Rice')\n",
    "plt.show()\n"
   ]
  },
  {
   "cell_type": "markdown",
   "id": "3b449182",
   "metadata": {},
   "source": [
    "2)Use .agg() to calculate the mean and median of co2_emission for rice."
   ]
  },
  {
   "cell_type": "code",
   "execution_count": null,
   "id": "d40f4dbc",
   "metadata": {},
   "outputs": [],
   "source": [
    "# Subset for food_category equals rice\n",
    "rice_consumption = food_consumption[food_consumption['food_category'] == 'rice']\n",
    "\n",
    "# Calculate mean and median of co2_emission with .agg()\n",
    "print(rice_consumption['co2_emission'].agg(mean_co2_emission='mean', median_co2_emission='median'))\n"
   ]
  },
  {
   "cell_type": "markdown",
   "id": "88bb227a",
   "metadata": {},
   "source": [
    "## Measures of spread"
   ]
  },
  {
   "cell_type": "markdown",
   "id": "1766b149",
   "metadata": {},
   "source": [
    "##### Quartiles, quantiles, and quintiles\n",
    "Quantiles are a great way of summarizing numerical data since they can be used to measure center and spread, as well as to get a sense of where a data point stands in relation to the rest of the data set. For example, you might want to give a discount to the 10% most active users on a website.\n",
    "\n",
    "In this exercise, you'll calculate quartiles, quintiles, and deciles, which split up a dataset into 4, 5, and 10 pieces, respectively.\n",
    "\n",
    "Both pandas as pd and numpy as np are loaded and food_consumption is available."
   ]
  },
  {
   "cell_type": "markdown",
   "id": "89782c92",
   "metadata": {},
   "source": [
    "1)Calculate the quartiles of the co2_emission column of food_consumption."
   ]
  },
  {
   "cell_type": "code",
   "execution_count": null,
   "id": "d76a100a",
   "metadata": {},
   "outputs": [],
   "source": [
    "# Calculate the quartiles of co2_emission\n",
    "print(np.quantile(food_consumption['co2_emission'], [0, 0.25, 0.5, 0.75, 1]))"
   ]
  },
  {
   "cell_type": "markdown",
   "id": "3ceef76f",
   "metadata": {},
   "source": [
    "2)Calculate the six quantiles that split up the data into 5 pieces (quintiles) of the co2_emission column of food_consumption.\n"
   ]
  },
  {
   "cell_type": "code",
   "execution_count": null,
   "id": "c933fd3d",
   "metadata": {},
   "outputs": [],
   "source": [
    "# Calculate the quintiles of co2_emission\n",
    "print( np.percentile(food_consumption['co2_emission'], [0,20, 40, 60, 80,100])\n",
    ")"
   ]
  },
  {
   "cell_type": "markdown",
   "id": "7d7140bd",
   "metadata": {},
   "source": [
    "3)Calculate the eleven quantiles of co2_emission that split up the data into ten pieces (deciles)."
   ]
  },
  {
   "cell_type": "code",
   "execution_count": null,
   "id": "72619e3e",
   "metadata": {},
   "outputs": [],
   "source": [
    "# Calculate the deciles of co2_emission\n",
    "print(np.quantile(food_consumption['co2_emission'], np.array([0,10, 20, 30, 40, 50, 60, 70, 80, 90,100])*0.01)\n",
    ")"
   ]
  },
  {
   "cell_type": "markdown",
   "id": "566c5f97",
   "metadata": {},
   "source": [
    "##### Variance and standard deviation\n",
    "Variance and standard deviation are two of the most common ways to measure the spread of a variable, and you'll practice calculating these in this exercise. Spread is important since it can help inform expectations. For example, if a salesperson sells a mean of 20 products a day, but has a standard deviation of 10 products, there will probably be days where they sell 40 products, but also days where they only sell one or two. Information like this is important, especially when making predictions.\n",
    "\n",
    "Both pandas as pd and numpy as np are loaded, and food_consumption is available."
   ]
  },
  {
   "cell_type": "markdown",
   "id": "45fe58da",
   "metadata": {},
   "source": [
    "Calculate the variance and standard deviation of co2_emission for each food_category by grouping and aggregating.\n",
    "Import matplotlib.pyplot with alias plt.\n",
    "Create a histogram of co2_emission for the beef food_category and show the plot.\n",
    "Create a histogram of co2_emission for the eggs food_category and show the plot."
   ]
  },
  {
   "cell_type": "code",
   "execution_count": null,
   "id": "610adc3d",
   "metadata": {},
   "outputs": [],
   "source": [
    "import numpy as np\n",
    "import pandas as pd\n",
    "import matplotlib.pyplot as plt\n",
    "\n",
    "# Assuming food_consumption is already loaded\n",
    "\n",
    "# Calculate variance and standard deviation of co2_emission for each food_category\n",
    "variance_and_sd = food_consumption.groupby('food_category')['co2_emission'].agg(variance=np.var, std_dev=np.std)\n",
    "\n",
    "print(\"Variance and Standard Deviation:\")\n",
    "print(variance_and_sd)\n",
    "\n",
    "# Create histogram of co2_emission for food_category 'beef'\n",
    "plt.hist(food_consumption[food_consumption['food_category'] == 'beef']['co2_emission'], bins=20, edgecolor='black')\n",
    "plt.xlabel('CO2 Emissions')\n",
    "plt.ylabel('Frequency')\n",
    "plt.title('Histogram of CO2 Emissions for Beef')\n",
    "plt.show()\n",
    "\n",
    "# Create histogram of co2_emission for food_category 'eggs'\n",
    "plt.hist(food_consumption[food_consumption['food_category'] == 'eggs']['co2_emission'], bins=20, edgecolor='black')\n",
    "plt.xlabel('CO2 Emissions')\n",
    "plt.ylabel('Frequency')\n",
    "plt.title('Histogram of CO2 Emissions for Eggs')\n",
    "plt.show()\n"
   ]
  },
  {
   "cell_type": "markdown",
   "id": "939b3029",
   "metadata": {},
   "source": [
    "##### Finding outliers using IQR\n",
    "Outliers can have big effects on statistics like mean, as well as statistics that rely on the mean, such as variance and standard deviation. Interquartile range, or IQR, is another way of measuring spread that's less influenced by outliers. IQR is also often used to find outliers. If a value is less than \n",
    " or greater than \n",
    ", it's considered an outlier. In fact, this is how the lengths of the whiskers in a matplotlib box plot are calculated.\n",
    "\n",
    "Diagram of a box plot showing median, quartiles, and outliers\n",
    "\n",
    "In this exercise, you'll calculate IQR and use it to find some outliers. pandas as pd and numpy as np are loaded and food_consumption is available."
   ]
  },
  {
   "cell_type": "markdown",
   "id": "031545dc",
   "metadata": {},
   "source": [
    "1)Calculate the total co2_emission per country by grouping by country and taking the sum of co2_emission. Store the resulting DataFrame as emissions_by_country."
   ]
  },
  {
   "cell_type": "code",
   "execution_count": null,
   "id": "349ab781",
   "metadata": {},
   "outputs": [],
   "source": [
    "import numpy as np\n",
    "import pandas as pd\n",
    "\n",
    "# Assuming food_consumption is already loaded\n",
    "\n",
    "# Calculate total co2_emission per country\n",
    "emissions_by_country = food_consumption.groupby('country')['co2_emission'].sum()\n",
    "\n",
    "print(emissions_by_country)\n"
   ]
  },
  {
   "cell_type": "markdown",
   "id": "ef31cee1",
   "metadata": {},
   "source": [
    "2)Compute the first and third quartiles of emissions_by_country and store these as q1 and q3.\n",
    "Calculate the interquartile range of emissions_by_country and store it as iqr."
   ]
  },
  {
   "cell_type": "code",
   "execution_count": null,
   "id": "486fc354",
   "metadata": {},
   "outputs": [],
   "source": [
    "import numpy as np\n",
    "import pandas as pd\n",
    "\n",
    "# Assuming food_consumption is already loaded\n",
    "\n",
    "# Calculate total co2_emission per country\n",
    "emissions_by_country = food_consumption.groupby('country')['co2_emission'].sum()\n",
    "\n",
    "# Calculate the first and third quartiles\n",
    "q1 = np.percentile(emissions_by_country, 25)\n",
    "q3 = np.percentile(emissions_by_country, 75)\n",
    "\n",
    "# Calculate the interquartile range (IQR)\n",
    "iqr = q3 - q1\n",
    "\n",
    "print(\"First Quartile (Q1):\", q1)\n",
    "print(\"Third Quartile (Q3):\", q3)\n",
    "print(\"Interquartile Range (IQR):\", iqr)\n"
   ]
  },
  {
   "cell_type": "markdown",
   "id": "6643f055",
   "metadata": {},
   "source": [
    "3)Calculate the lower and upper cutoffs for outliers of emissions_by_country, and store these as lower and upper."
   ]
  },
  {
   "cell_type": "code",
   "execution_count": null,
   "id": "fb7248f1",
   "metadata": {},
   "outputs": [],
   "source": [
    "import numpy as np\n",
    "import pandas as pd\n",
    "\n",
    "# Assuming food_consumption is already loaded\n",
    "\n",
    "# Calculate total co2_emission per country\n",
    "emissions_by_country = food_consumption.groupby('country')['co2_emission'].sum()\n",
    "\n",
    "# Calculate the first and third quartiles\n",
    "q1 = np.percentile(emissions_by_country, 25)\n",
    "q3 = np.percentile(emissions_by_country, 75)\n",
    "\n",
    "# Calculate the interquartile range (IQR)\n",
    "iqr = q3 - q1\n",
    "\n",
    "# Calculate lower and upper cutoffs for outliers\n",
    "lower = q1 - 1.5 * iqr\n",
    "upper = q3 + 1.5 * iqr\n",
    "\n",
    "print(\"Lower Cutoff for Outliers:\", lower)\n",
    "print(\"Upper Cutoff for Outliers:\", upper)\n"
   ]
  },
  {
   "cell_type": "markdown",
   "id": "7e16f379",
   "metadata": {},
   "source": [
    "4) Subset emissions_by_country to get countries with a total emission greater than the upper cutoff or a total emission less than the lower cutoff."
   ]
  },
  {
   "cell_type": "code",
   "execution_count": null,
   "id": "d76545f4",
   "metadata": {},
   "outputs": [],
   "source": [
    "import numpy as np\n",
    "import pandas as pd\n",
    "\n",
    "# Assuming food_consumption is already loaded\n",
    "\n",
    "# Calculate total co2_emission per country\n",
    "emissions_by_country = food_consumption.groupby('country')['co2_emission'].sum()\n",
    "\n",
    "# Calculate the first and third quartiles\n",
    "q1 = np.percentile(emissions_by_country, 25)\n",
    "q3 = np.percentile(emissions_by_country, 75)\n",
    "\n",
    "# Calculate the interquartile range (IQR)\n",
    "iqr = q3 - q1\n",
    "\n",
    "# Calculate lower and upper cutoffs for outliers\n",
    "lower = q1 - 1.5 * iqr\n",
    "upper = q3 + 1.5 * iqr\n",
    "\n",
    "# Subset countries with emissions greater than upper cutoff or less than lower cutoff\n",
    "outliers = emissions_by_country[(emissions_by_country > upper) | (emissions_by_country < lower)]\n",
    "\n",
    "print(\"Outliers:\")\n",
    "print(outliers)\n"
   ]
  },
  {
   "cell_type": "markdown",
   "id": "5aad2516",
   "metadata": {},
   "source": [
    "## What are the chances?"
   ]
  },
  {
   "cell_type": "markdown",
   "id": "cef7fef8",
   "metadata": {},
   "source": [
    "##### Calculating probabilities\n",
    "You're in charge of the sales team, and it's time for performance reviews, starting with Amir. As part of the review, you want to randomly select a few of the deals that he's worked on over the past year so that you can look at them more deeply. Before you start selecting deals, you'll first figure out what the chances are of selecting certain deals.\n",
    "\n",
    "Recall that the probability of an event can be calculated by\n",
    " \n",
    "\n",
    "Both pandas as pd and numpy as np are loaded and amir_deals is available."
   ]
  },
  {
   "cell_type": "markdown",
   "id": "be47842d",
   "metadata": {},
   "source": [
    "1)Count the number of deals Amir worked on for each product type and store in counts."
   ]
  },
  {
   "cell_type": "code",
   "execution_count": null,
   "id": "ab2bc951",
   "metadata": {},
   "outputs": [],
   "source": [
    "# Count the deals for each product\n",
    "counts = amir_deals['product'].value_counts()\n",
    "print(counts)"
   ]
  },
  {
   "cell_type": "markdown",
   "id": "dda8b5e2",
   "metadata": {},
   "source": [
    "Calculate the probability of selecting a deal for the different product types by dividing the counts by the total number of deals Amir worked on. Save this as probs."
   ]
  },
  {
   "cell_type": "code",
   "execution_count": null,
   "id": "f0504925",
   "metadata": {},
   "outputs": [],
   "source": [
    "# Count the deals for each product\n",
    "counts = amir_deals['product'].value_counts()\n",
    "\n",
    "# Calculate probability of picking a deal with each product\n",
    "probs =  amir_deals['product'].value_counts()/len(amir_deals['product'])\n",
    "print(probs)"
   ]
  },
  {
   "cell_type": "markdown",
   "id": "a3835618",
   "metadata": {},
   "source": [
    "##### Sampling deals\n",
    "In the previous exercise, you counted the deals Amir worked on. Now it's time to randomly pick five deals so that you can reach out to each customer and ask if they were satisfied with the service they received. You'll try doing this both with and without replacement.\n",
    "\n",
    "Additionally, you want to make sure this is done randomly and that it can be reproduced in case you get asked how you chose the deals, so you'll need to set the random seed before sampling from the deals.\n",
    "\n",
    "Both pandas as pd and numpy as np are loaded and amir_deals is available."
   ]
  },
  {
   "cell_type": "markdown",
   "id": "739603c9",
   "metadata": {},
   "source": [
    "1)Set the random seed to 24.\n",
    "Take a sample of 5 deals without replacement and store them as sample_without_replacement."
   ]
  },
  {
   "cell_type": "code",
   "execution_count": null,
   "id": "56fd0acc",
   "metadata": {},
   "outputs": [],
   "source": [
    "# Set random seed\n",
    "random_seed=np.random.seed(24)\n",
    "# Sample 5 deals without replacement\n",
    "sample_without_replacement = amir_deals.sample(5)\n",
    "print(sample_without_replacement)"
   ]
  },
  {
   "cell_type": "markdown",
   "id": "d1f4792b",
   "metadata": {},
   "source": [
    "2)Take a sample of 5 deals with replacement and save as sample_with_replacement"
   ]
  },
  {
   "cell_type": "code",
   "execution_count": null,
   "id": "2b7afb9c",
   "metadata": {},
   "outputs": [],
   "source": [
    "# Set random seed\n",
    "np.random.seed(24)\n",
    "\n",
    "# Sample 5 deals with replacement\n",
    "sample_with_replacement = amir_deals.sample(5,replace=True)\n",
    "print(sample_with_replacement)"
   ]
  },
  {
   "cell_type": "code",
   "execution_count": null,
   "id": "ce86b828",
   "metadata": {},
   "outputs": [],
   "source": []
  }
 ],
 "metadata": {
  "kernelspec": {
   "display_name": "Python 3 (ipykernel)",
   "language": "python",
   "name": "python3"
  },
  "language_info": {
   "codemirror_mode": {
    "name": "ipython",
    "version": 3
   },
   "file_extension": ".py",
   "mimetype": "text/x-python",
   "name": "python",
   "nbconvert_exporter": "python",
   "pygments_lexer": "ipython3",
   "version": "3.9.12"
  }
 },
 "nbformat": 4,
 "nbformat_minor": 5
}
