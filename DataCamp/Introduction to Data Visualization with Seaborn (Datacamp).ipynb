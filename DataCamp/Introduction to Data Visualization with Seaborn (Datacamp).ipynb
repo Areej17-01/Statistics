{
 "cells": [
  {
   "cell_type": "code",
   "execution_count": null,
   "id": "82728280",
   "metadata": {},
   "outputs": [],
   "source": []
  },
  {
   "cell_type": "markdown",
   "id": "6e47ef19",
   "metadata": {},
   "source": [
    "##### Making a scatter plot with lists\n",
    "In this exercise, we'll use a dataset that contains information about 227 countries. This dataset has lots of interesting information on each country, such as the country's birth rates, death rates, and its gross domestic product (GDP). GDP is the value of all the goods and services produced in a year, expressed as dollars per person.\n",
    "\n",
    "We've created three lists of data from this dataset to get you started. gdp is a list that contains the value of GDP per country, expressed as dollars per person. phones is a list of the number of mobile phones per 1,000 people in that country. Finally, percent_literate is a list that contains the percent of each country's population that can read and write.\n",
    "\n",
    "."
   ]
  },
  {
   "cell_type": "markdown",
   "id": "38e3ce11",
   "metadata": {},
   "source": [
    "1)\n",
    "Import Matplotlib and Seaborn using the standard naming convention"
   ]
  },
  {
   "cell_type": "code",
   "execution_count": null,
   "id": "2a0df433",
   "metadata": {},
   "outputs": [],
   "source": [
    "import matplotlib.pyplot as plt\n",
    "import seaborn as sns\n",
    "\n",
    "\n",
    "# Create a figure and axes\n",
    "fig, ax = plt.subplots()\n",
    "\n",
    "# Define custom x-axis ticks\n",
    "custom_xticks = [0, 1, 2, 3, 4]\n",
    "\n",
    "# Set custom x-axis ticks\n",
    "ax.set_xticks(custom_xticks)\n",
    "\n",
    "# Optionally, set custom tick labels\n",
    "custom_tick_labels = [\"A\", \"B\", \"C\", \"D\", \"E\"]\n",
    "ax.set_xticklabels(custom_tick_labels)\n",
    "\n",
    "# Set a label for the x-axis\n",
    "ax.set_xlabel(\"X-axis\")\n",
    "\n",
    "# Display the plot or save it to a file\n",
    "plt.show()\n"
   ]
  },
  {
   "cell_type": "markdown",
   "id": "e22c5a3b",
   "metadata": {},
   "source": [
    "2)Create a scatter plot of GDP (gdp) vs. number of phones per 1000 people (phones)."
   ]
  },
  {
   "cell_type": "code",
   "execution_count": null,
   "id": "0eca7ae1",
   "metadata": {},
   "outputs": [],
   "source": [
    "import matplotlib.pyplot as plt\n",
    "import seaborn as sns\n",
    "\n",
    "\n",
    "# Create a scatter plot\n",
    "plt.figure(figsize=(10, 6))  # Optional: Set the figure size\n",
    "sns.scatterplot(x=gdp, y=phones)\n",
    "\n",
    "# Add labels and a title\n",
    "plt.xlabel(\"GDP per Capita (USD)\")\n",
    "plt.ylabel(\"Number of Phones per 1000 People\")\n",
    "plt.title(\"Scatter Plot of GDP vs. Phones\")\n",
    "\n",
    "# Show the plot\n",
    "plt.show()\n"
   ]
  },
  {
   "cell_type": "markdown",
   "id": "8fc2942e",
   "metadata": {},
   "source": [
    "3)Display the plot."
   ]
  },
  {
   "cell_type": "code",
   "execution_count": null,
   "id": "b9288ef9",
   "metadata": {},
   "outputs": [],
   "source": [
    "# Import Matplotlib and Seaborn\n",
    "import matplotlib.pyplot as plt\n",
    "import seaborn as sns\n",
    "\n",
    "# Create scatter plot with GDP on the x-axis and number of phones on the y-axis\n",
    "sns.scatterplot(x=gdp, y=phones)\n",
    "\n",
    "# Show plot\n",
    "plt.show()"
   ]
  },
  {
   "cell_type": "markdown",
   "id": "19adc6c6",
   "metadata": {},
   "source": [
    "4)Change the scatter plot so it displays the percent of the population that can read and write (percent_literate) on the y-axis."
   ]
  },
  {
   "cell_type": "code",
   "execution_count": null,
   "id": "939412ac",
   "metadata": {},
   "outputs": [],
   "source": [
    "import matplotlib.pyplot as plt\n",
    "import seaborn as sns\n",
    "\n",
    "\n",
    "\n",
    "# Create a scatter plot\n",
    "plt.figure(figsize=(10, 6))  # Optional: Set the figure size\n",
    "sns.scatterplot(x=gdp, y=percent_literate)\n",
    "\n",
    "# Add labels and a title\n",
    "plt.xlabel(\"GDP per Capita (USD)\")\n",
    "plt.ylabel(\"Percent Literate (%)\")\n",
    "plt.title(\"Scatter Plot of GDP vs. Percent Literate\")\n",
    "\n",
    "# Show the plot\n",
    "plt.show()\n"
   ]
  },
  {
   "cell_type": "markdown",
   "id": "e4e51a82",
   "metadata": {},
   "source": [
    "##### Making a count plot with a list\n",
    "In the last exercise, we explored a dataset that contains information about 227 countries. Let's do more exploration of this data - specifically, how many countries are in each region of the world?\n",
    "\n",
    "To do this, we'll need to use a count plot. Count plots take in a categorical list and return bars that represent the number of list entries per category. You can create one here using a list of regions for each country, which is a variable named region.\n",
    "\n",
    "Instructions\n",
    "100 XP\n",
    "Import Matplotlib and Seaborn using the standard naming conventions.\n",
    "Use Seaborn to create a count plot with region on the y-axis.\n",
    "Display the plot."
   ]
  },
  {
   "cell_type": "code",
   "execution_count": null,
   "id": "99a59676",
   "metadata": {},
   "outputs": [],
   "source": [
    "import matplotlib.pyplot as plt\n",
    "import seaborn as sns\n",
    "\n",
    "\n",
    "# Create a count plot\n",
    "plt.figure(figsize=(10, 6))  # Optional: Set the figure size\n",
    "sns.countplot(y=region, order=region)\n",
    "\n",
    "# Add labels and a title\n",
    "plt.xlabel(\"Number of Countries\")\n",
    "plt.ylabel(\"Region\")\n",
    "plt.title(\"Count of Countries per Region\")\n",
    "\n",
    "# Show the plot\n",
    "plt.show()\n"
   ]
  },
  {
   "cell_type": "markdown",
   "id": "f74ed05a",
   "metadata": {},
   "source": [
    "##### \"Tidy\" vs. \"untidy\" data\n",
    "Here, we have a sample dataset from a survey of children about their favorite animals. But can we use this dataset as-is with Seaborn? Let's use pandas to import the csv file with the data collected from the survey and determine whether it is tidy, which is essential to having it work well with Seaborn.\n",
    "\n",
    "To get you started, the filepath to the csv file has been assigned to the variable csv_filepath.\n",
    "\n",
    "Note that because csv_filepath is a Python variable, you will not need to put quotation marks around it when you read the csv.\n",
    "\n"
   ]
  },
  {
   "cell_type": "markdown",
   "id": "d512b863",
   "metadata": {},
   "source": [
    "\n",
    "Read the csv file located at csv_filepath into a DataFrame named df.\n",
    "Print the head of df to show the first five rows."
   ]
  },
  {
   "cell_type": "code",
   "execution_count": null,
   "id": "cf55416b",
   "metadata": {},
   "outputs": [],
   "source": [
    "# Import pandas\n",
    "import pandas as pd\n",
    "\n",
    "# Create a DataFrame from csv file\n",
    "df = pd.read_csv(csv_filepath)\n",
    "\n",
    "# Print the head of df\n",
    "print(df.head())"
   ]
  },
  {
   "cell_type": "markdown",
   "id": "72acb13b",
   "metadata": {},
   "source": [
    "##### Making a count plot with a DataFrame\n",
    "In this exercise, we'll look at the responses to a survey sent out to young people. Our primary question here is: how many young people surveyed report being scared of spiders? Survey participants were asked to agree or disagree with the statement \"I am afraid of spiders\". Responses vary from 1 to 5, where 1 is \"Strongly disagree\" and 5 is \"Strongly agree\".\n",
    "\n",
    "To get you started, the filepath to the csv file with the survey data has been assigned to the variable csv_filepath.\n",
    "\n",
    "Note that because csv_filepath is a Python variable, you will not need to put quotation marks around it when you read the csv.\n",
    "\n"
   ]
  },
  {
   "cell_type": "markdown",
   "id": "bef8eb4d",
   "metadata": {},
   "source": [
    "1)\n",
    "Import Matplotlib, pandas, and Seaborn using the standard names.\n",
    "Create a DataFrame named df from the csv file located at csv_filepath.\n",
    "Use the countplot() function with the x= and data= arguments to create a count plot with the \"Spiders\" column values on the x-axis.\n",
    "Display the plot."
   ]
  },
  {
   "cell_type": "code",
   "execution_count": null,
   "id": "f15012f0",
   "metadata": {},
   "outputs": [],
   "source": [
    "import matplotlib.pyplot as plt\n",
    "import pandas as pd\n",
    "import seaborn as sns\n",
    "\n",
    "# Assuming 'csv_filepath' is the file path to the CSV file\n",
    "df = pd.read_csv(csv_filepath)\n",
    "\n",
    "# Create a DataFrame from the CSV file\n",
    "\n",
    "\n",
    "# Create a count plot\n",
    "plt.figure(figsize=(10, 6))  # Optional: Set the figure size\n",
    "sns.countplot(x=\"Spiders\", data=df)\n",
    "\n",
    "# Add labels and a title\n",
    "plt.xlabel(\"Fear of Spiders\")\n",
    "plt.ylabel(\"Count\")\n",
    "plt.title(\"Count of People Afraid of Spiders\")\n",
    "\n",
    "# Show the plot\n",
    "plt.show()\n"
   ]
  },
  {
   "cell_type": "markdown",
   "id": "4aabb707",
   "metadata": {},
   "source": [
    "##### Hue and scatter plots\n",
    "In the prior video, we learned how hue allows us to easily make subgroups within Seaborn plots. Let's try it out by exploring data from students in secondary school. We have a lot of information about each student like their age, where they live, their study habits and their extracurricular activities.\n",
    "\n",
    "For now, we'll look at the relationship between the number of absences they have in school and their final grade in the course, segmented by where the student lives (rural vs. urban area).\n",
    "\n"
   ]
  },
  {
   "cell_type": "markdown",
   "id": "670d0d86",
   "metadata": {},
   "source": [
    "1)\n",
    "Create a scatter plot with \"absences\" on the x-axis and final grade (\"G3\") on the y-axis using the DataFrame student_data. Color the plot points based on \"location\" (urban vs. rural)."
   ]
  },
  {
   "cell_type": "code",
   "execution_count": null,
   "id": "8b9f5cc3",
   "metadata": {},
   "outputs": [],
   "source": [
    "import seaborn as sns\n",
    "import matplotlib.pyplot as plt\n",
    "\n",
    "# Create a scatter plot\n",
    "plt.figure(figsize=(10, 6))  # Optional: Set the figure size\n",
    "sns.scatterplot(x=\"absences\", y=\"G3\", hue=\"location\", data=student_data)\n",
    "\n",
    "# Add labels and a title\n",
    "plt.xlabel(\"Absences\")\n",
    "plt.ylabel(\"Final Grade (G3)\")\n",
    "plt.title(\"Scatter Plot of Absences vs. Final Grade (G3)\")\n",
    "\n",
    "# Show the plot\n",
    "plt.show()\n"
   ]
  },
  {
   "cell_type": "markdown",
   "id": "ee51f764",
   "metadata": {},
   "source": [
    "2)Make \"Rural\" appear before \"Urban\" in the plot legend."
   ]
  },
  {
   "cell_type": "code",
   "execution_count": null,
   "id": "7236b9f8",
   "metadata": {},
   "outputs": [],
   "source": []
  }
 ],
 "metadata": {
  "kernelspec": {
   "display_name": "Python 3 (ipykernel)",
   "language": "python",
   "name": "python3"
  },
  "language_info": {
   "codemirror_mode": {
    "name": "ipython",
    "version": 3
   },
   "file_extension": ".py",
   "mimetype": "text/x-python",
   "name": "python",
   "nbconvert_exporter": "python",
   "pygments_lexer": "ipython3",
   "version": "3.9.12"
  }
 },
 "nbformat": 4,
 "nbformat_minor": 5
}
