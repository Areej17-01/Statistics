{
 "cells": [
  {
   "cell_type": "code",
   "execution_count": 1,
   "id": "aaa8ccb2",
   "metadata": {},
   "outputs": [],
   "source": [
    "import warnings\n",
    "warnings.filterwarnings('ignore')\n",
    "\n",
    "#importing the libraries\n",
    "import numpy as np\n",
    "import pandas as pd\n",
    "import matplotlib.pyplot as plt\n",
    "import seaborn as sns\n",
    "\n",
    "sns.set()"
   ]
  },
  {
   "cell_type": "code",
   "execution_count": 3,
   "id": "acb65030",
   "metadata": {},
   "outputs": [
    {
     "data": {
      "text/html": [
       "<div>\n",
       "<style scoped>\n",
       "    .dataframe tbody tr th:only-of-type {\n",
       "        vertical-align: middle;\n",
       "    }\n",
       "\n",
       "    .dataframe tbody tr th {\n",
       "        vertical-align: top;\n",
       "    }\n",
       "\n",
       "    .dataframe thead th {\n",
       "        text-align: right;\n",
       "    }\n",
       "</style>\n",
       "<table border=\"1\" class=\"dataframe\">\n",
       "  <thead>\n",
       "    <tr style=\"text-align: right;\">\n",
       "      <th></th>\n",
       "      <th>SAT</th>\n",
       "      <th>Admitted</th>\n",
       "    </tr>\n",
       "  </thead>\n",
       "  <tbody>\n",
       "    <tr>\n",
       "      <th>0</th>\n",
       "      <td>1363</td>\n",
       "      <td>No</td>\n",
       "    </tr>\n",
       "    <tr>\n",
       "      <th>1</th>\n",
       "      <td>1792</td>\n",
       "      <td>Yes</td>\n",
       "    </tr>\n",
       "    <tr>\n",
       "      <th>2</th>\n",
       "      <td>1954</td>\n",
       "      <td>Yes</td>\n",
       "    </tr>\n",
       "    <tr>\n",
       "      <th>3</th>\n",
       "      <td>1653</td>\n",
       "      <td>No</td>\n",
       "    </tr>\n",
       "    <tr>\n",
       "      <th>4</th>\n",
       "      <td>1593</td>\n",
       "      <td>No</td>\n",
       "    </tr>\n",
       "  </tbody>\n",
       "</table>\n",
       "</div>"
      ],
      "text/plain": [
       "    SAT Admitted\n",
       "0  1363       No\n",
       "1  1792      Yes\n",
       "2  1954      Yes\n",
       "3  1653       No\n",
       "4  1593       No"
      ]
     },
     "execution_count": 3,
     "metadata": {},
     "output_type": "execute_result"
    }
   ],
   "source": [
    "df = pd.read_csv('Admission SAT.csv')\n",
    "df.head()"
   ]
  },
  {
   "cell_type": "code",
   "execution_count": 6,
   "id": "3db55a4c",
   "metadata": {},
   "outputs": [
    {
     "data": {
      "text/plain": [
       "(168, 2)"
      ]
     },
     "execution_count": 6,
     "metadata": {},
     "output_type": "execute_result"
    }
   ],
   "source": [
    "df.shape\n"
   ]
  },
  {
   "cell_type": "markdown",
   "id": "013ad70c",
   "metadata": {},
   "source": [
    "### CONFIDENCE INTERVAL"
   ]
  },
  {
   "cell_type": "markdown",
   "id": "8056f1bc",
   "metadata": {},
   "source": [
    "FOR 95% CONFIDENCE"
   ]
  },
  {
   "cell_type": "markdown",
   "id": "87b58ae5",
   "metadata": {},
   "source": [
    "X(+,-)ta/2*(std_pop/n)"
   ]
  },
  {
   "cell_type": "markdown",
   "id": "1c07fb6d",
   "metadata": {},
   "source": [
    "where n= sample size,x is sample mean,Za/2 =1.95 (with 95%),std_pop=population std\n"
   ]
  },
  {
   "cell_type": "markdown",
   "id": "0d0718b8",
   "metadata": {},
   "source": [
    "σ: the population standard deviation (which we don't know, so we use the sample standard deviation instead)"
   ]
  },
  {
   "cell_type": "markdown",
   "id": "6f260bb4",
   "metadata": {},
   "source": [
    "t_alpha=t_value=1+conf_level/2"
   ]
  },
  {
   "cell_type": "markdown",
   "id": "ec512c95",
   "metadata": {},
   "source": [
    "t_value = t.ppf((1 + conf_level) / 2, df=len(sample) - 1)\n"
   ]
  },
  {
   "cell_type": "code",
   "execution_count": 15,
   "id": "a97bdf64",
   "metadata": {},
   "outputs": [
    {
     "data": {
      "text/plain": [
       "<AxesSubplot:xlabel='SAT', ylabel='Count'>"
      ]
     },
     "execution_count": 15,
     "metadata": {},
     "output_type": "execute_result"
    },
    {
     "data": {
      "image/png": "[encoded data removed]",
      "text/plain": [
       "<Figure size 432x288 with 1 Axes>"
      ]
     },
     "metadata": {},
     "output_type": "display_data"
    }
   ],
   "source": [
    "sns.histplot(x=df.SAT,kde=True)"
   ]
  },
  {
   "cell_type": "markdown",
   "id": "0e1a14ab",
   "metadata": {},
   "source": [
    "###### ddof=1, This gives us an unbiased estimate of the population SEM when working with a small sample."
   ]
  },
  {
   "cell_type": "code",
   "execution_count": 22,
   "id": "7e4efec8",
   "metadata": {},
   "outputs": [
    {
     "name": "stdout",
     "output_type": "stream",
     "text": [
      "Confidence interval:  (95.0, SAT    1667.396662\n",
      "dtype: float64, SAT    1723.150957\n",
      "dtype: float64)\n"
     ]
    }
   ],
   "source": [
    "import numpy as np\n",
    "from scipy.stats import t\n",
    "\n"
   ]
  },
  {
   "cell_type": "markdown",
   "id": "92c8b7f9",
   "metadata": {},
   "source": [
    "### Calculate the sample mean and standard deviation"
   ]
  },
  {
   "cell_type": "code",
   "execution_count": 30,
   "id": "11e2ba8a",
   "metadata": {},
   "outputs": [
    {
     "name": "stdout",
     "output_type": "stream",
     "text": [
      "Sample standard deviation:  SAT    183.019017\n",
      "dtype: float64\n",
      "Sample mean:  SAT    1695.27381\n",
      "dtype: float64\n"
     ]
    }
   ],
   "source": [
    "\n",
    "sample = df\n",
    "sample_mean = np.mean(sample)\n",
    "sample_std = np.std(sample, ddof=1)#because there is no population std \n",
    "\n",
    "print(\"Sample standard deviation: \",(sample_std))\n",
    "print(\"Sample mean: \",sample_mean)"
   ]
  },
  {
   "cell_type": "markdown",
   "id": "20d01fb9",
   "metadata": {},
   "source": [
    "### Calculate the t_value"
   ]
  },
  {
   "cell_type": "markdown",
   "id": "775af7e3",
   "metadata": {},
   "source": [
    "## t_value"
   ]
  },
  {
   "cell_type": "markdown",
   "id": "e85ceb1e",
   "metadata": {},
   "source": [
    "###### t = (x̄ - μ) / (s / sqrt(n))\n",
    "\n",
    "where:\n",
    "\n",
    "x̄ is the sample mean\n",
    "μ is the hypothesized population mean\n",
    "s is the standard deviation of the sample\n",
    "n is the sample size"
   ]
  },
  {
   "cell_type": "markdown",
   "id": "bdb658a2",
   "metadata": {},
   "source": [
    "The t-value represents the number of standard errors that the sample mean is away from the hypothesized population mean"
   ]
  },
  {
   "cell_type": "code",
   "execution_count": 33,
   "id": "808adef7",
   "metadata": {},
   "outputs": [
    {
     "name": "stdout",
     "output_type": "stream",
     "text": [
      "t_value: 1.9742709570223844\n"
     ]
    }
   ],
   "source": [
    "# Set the desired confidence level (e.g., 95%)\n",
    "conf_level = 0.95\n",
    "\n",
    "# Calculate the t-value based on the sample size and degrees of freedom\n",
    "t_value = t.ppf((1 + conf_level) / 2, df=len(sample) - 1)\n",
    "print(\"t_value:\",t_value)"
   ]
  },
  {
   "cell_type": "markdown",
   "id": "cc51b2cb",
   "metadata": {},
   "source": [
    "### Calculate the lower and upper bounds of the confidence interval"
   ]
  },
  {
   "cell_type": "code",
   "execution_count": 34,
   "id": "a002529c",
   "metadata": {},
   "outputs": [],
   "source": [
    "\n",
    "\n",
    "lower_bound = sample_mean - t_value * (sample_std / np.sqrt(len(sample)))\n",
    "upper_bound = sample_mean + t_value * (sample_std / np.sqrt(len(sample)))\n"
   ]
  },
  {
   "cell_type": "code",
   "execution_count": 35,
   "id": "2f9b578a",
   "metadata": {},
   "outputs": [
    {
     "name": "stdout",
     "output_type": "stream",
     "text": [
      "Confidence interval:  (SAT    1667.396662\n",
      "dtype: float64, SAT    1723.150957\n",
      "dtype: float64)\n"
     ]
    }
   ],
   "source": [
    "\n",
    "print(\"Confidence interval: \",( lower_bound, upper_bound))"
   ]
  },
  {
   "cell_type": "markdown",
   "id": "51715073",
   "metadata": {},
   "source": [
    "This means that we are 95% confident that the true population mean SAT of  students is between 1667.396662 and 1723.150957 . In other words, if we were to repeat the sampling process many times and construct a 95% confidence interval each time, we would expect 95% of these intervals to contain the true population mean height."
   ]
  },
  {
   "cell_type": "markdown",
   "id": "8d55b6a0",
   "metadata": {},
   "source": [
    "It's important to note that this doesn't mean that we are 95% confident that the true population mean weight falls within the particular interval [1667.396662 and 1723.150957]. Instead, it means that if we were to repeat the sampling process many times and construct a confidence interval for each sample, about 95% of those intervals would contain the true population mean weight."
   ]
  },
  {
   "cell_type": "markdown",
   "id": "a2fdb7f8",
   "metadata": {},
   "source": [
    "If the hypothesized parameter is outside the confidence interval, then we can reject the null hypothesis and conclude that the sample statistic is significantly different from the hypothesized value."
   ]
  },
  {
   "cell_type": "markdown",
   "id": "cfed9095",
   "metadata": {},
   "source": [
    "## BY SCIPY"
   ]
  },
  {
   "cell_type": "code",
   "execution_count": 37,
   "id": "18d58f72",
   "metadata": {},
   "outputs": [],
   "source": [
    "import scipy.stats as st"
   ]
  },
  {
   "cell_type": "code",
   "execution_count": 42,
   "id": "42ff14d8",
   "metadata": {},
   "outputs": [
    {
     "data": {
      "text/plain": [
       "(1671.918548230096, 1718.6290708175231)"
      ]
     },
     "execution_count": 42,
     "metadata": {},
     "output_type": "execute_result"
    }
   ],
   "source": [
    "st.t.interval(alpha=0.90, df=len(df)-1,loc=np.mean(df.SAT),scale=st.sem(df.SAT))"
   ]
  },
  {
   "cell_type": "code",
   "execution_count": 50,
   "id": "a6ea7634",
   "metadata": {},
   "outputs": [
    {
     "data": {
      "text/html": [
       "<div>\n",
       "<style scoped>\n",
       "    .dataframe tbody tr th:only-of-type {\n",
       "        vertical-align: middle;\n",
       "    }\n",
       "\n",
       "    .dataframe tbody tr th {\n",
       "        vertical-align: top;\n",
       "    }\n",
       "\n",
       "    .dataframe thead th {\n",
       "        text-align: right;\n",
       "    }\n",
       "</style>\n",
       "<table border=\"1\" class=\"dataframe\">\n",
       "  <thead>\n",
       "    <tr style=\"text-align: right;\">\n",
       "      <th></th>\n",
       "      <th>SAT</th>\n",
       "      <th>Admitted</th>\n",
       "    </tr>\n",
       "  </thead>\n",
       "  <tbody>\n",
       "    <tr>\n",
       "      <th>0</th>\n",
       "      <td>1363</td>\n",
       "      <td>No</td>\n",
       "    </tr>\n",
       "    <tr>\n",
       "      <th>1</th>\n",
       "      <td>1792</td>\n",
       "      <td>Yes</td>\n",
       "    </tr>\n",
       "    <tr>\n",
       "      <th>2</th>\n",
       "      <td>1954</td>\n",
       "      <td>Yes</td>\n",
       "    </tr>\n",
       "    <tr>\n",
       "      <th>3</th>\n",
       "      <td>1653</td>\n",
       "      <td>No</td>\n",
       "    </tr>\n",
       "    <tr>\n",
       "      <th>4</th>\n",
       "      <td>1593</td>\n",
       "      <td>No</td>\n",
       "    </tr>\n",
       "    <tr>\n",
       "      <th>...</th>\n",
       "      <td>...</td>\n",
       "      <td>...</td>\n",
       "    </tr>\n",
       "    <tr>\n",
       "      <th>163</th>\n",
       "      <td>1722</td>\n",
       "      <td>Yes</td>\n",
       "    </tr>\n",
       "    <tr>\n",
       "      <th>164</th>\n",
       "      <td>1750</td>\n",
       "      <td>Yes</td>\n",
       "    </tr>\n",
       "    <tr>\n",
       "      <th>165</th>\n",
       "      <td>1555</td>\n",
       "      <td>No</td>\n",
       "    </tr>\n",
       "    <tr>\n",
       "      <th>166</th>\n",
       "      <td>1524</td>\n",
       "      <td>No</td>\n",
       "    </tr>\n",
       "    <tr>\n",
       "      <th>167</th>\n",
       "      <td>1461</td>\n",
       "      <td>No</td>\n",
       "    </tr>\n",
       "  </tbody>\n",
       "</table>\n",
       "<p>168 rows × 2 columns</p>\n",
       "</div>"
      ],
      "text/plain": [
       "      SAT Admitted\n",
       "0    1363       No\n",
       "1    1792      Yes\n",
       "2    1954      Yes\n",
       "3    1653       No\n",
       "4    1593       No\n",
       "..    ...      ...\n",
       "163  1722      Yes\n",
       "164  1750      Yes\n",
       "165  1555       No\n",
       "166  1524       No\n",
       "167  1461       No\n",
       "\n",
       "[168 rows x 2 columns]"
      ]
     },
     "execution_count": 50,
     "metadata": {},
     "output_type": "execute_result"
    }
   ],
   "source": [
    "df"
   ]
  },
  {
   "cell_type": "markdown",
   "id": "26f79e33",
   "metadata": {},
   "source": [
    "## creating samples of 50:"
   ]
  },
  {
   "cell_type": "markdown",
   "id": "627eedca",
   "metadata": {},
   "source": [
    "### the  graphs"
   ]
  },
  {
   "cell_type": "code",
   "execution_count": 64,
   "id": "870113c4",
   "metadata": {},
   "outputs": [
    {
     "data": {
      "image/png": "[encoded data removed]",
      "text/plain": [
       "<Figure size 1080x720 with 1 Axes>"
      ]
     },
     "metadata": {},
     "output_type": "display_data"
    },
    {
     "data": {
      "image/png": "[encoded data removed]",
      "text/plain": [
       "<Figure size 1080x720 with 1 Axes>"
      ]
     },
     "metadata": {},
     "output_type": "display_data"
    },
    {
     "data": {
      "image/png": "[encoded data removed]",
      "text/plain": [
       "<Figure size 1080x720 with 1 Axes>"
      ]
     },
     "metadata": {},
     "output_type": "display_data"
    },
    {
     "data": {
      "image/png": "[encoded data removed]",
      "text/plain": [
       "<Figure size 1080x720 with 1 Axes>"
      ]
     },
     "metadata": {},
     "output_type": "display_data"
    },
    {
     "data": {
      "image/png": "[encoded data removed]",
      "text/plain": [
       "<Figure size 1080x720 with 1 Axes>"
      ]
     },
     "metadata": {},
     "output_type": "display_data"
    },
    {
     "data": {
      "image/png": "[encoded data removed]",
      "text/plain": [
       "<Figure size 1080x720 with 1 Axes>"
      ]
     },
     "metadata": {},
     "output_type": "display_data"
    },
    {
     "data": {
      "image/png": "[encoded data removed]",
      "text/plain": [
       "<Figure size 1080x720 with 1 Axes>"
      ]
     },
     "metadata": {},
     "output_type": "display_data"
    },
    {
     "data": {
      "image/png": "[encoded data removed]",
      "text/plain": [
       "<Figure size 1080x720 with 1 Axes>"
      ]
     },
     "metadata": {},
     "output_type": "display_data"
    }
   ],
   "source": [
    "for i in range(1,9):\n",
    "    plt.figure(figsize=(15,10))\n",
    "    plt.subplot(4,2,i)\n",
    "    \n",
    "    shuffle_index = np.random.permutation(df.index)\n",
    "    #print(shuffle_index)\n",
    "    temp_df = df.loc[shuffle_index]\n",
    "    temp_df=temp_df[:50]\n",
    "    sns.histplot(x=temp_df.SAT,kde=True)\n"
   ]
  },
  {
   "cell_type": "markdown",
   "id": "b06a6602",
   "metadata": {},
   "source": [
    "### the intervals for 9 samples :\n",
    "not that these are different samples from graphs"
   ]
  },
  {
   "cell_type": "code",
   "execution_count": 75,
   "id": "cd7b023e",
   "metadata": {
    "scrolled": false
   },
   "outputs": [
    {
     "name": "stdout",
     "output_type": "stream",
     "text": [
      "t_value: 2.009575234489209\n",
      "Confidence intervals: \n",
      "lower_bound SAT    1669.984369\n",
      "dtype: float64\n",
      "upper_bound SAT    1779.335631\n",
      "dtype: float64\n",
      "*******\n",
      "Sample standard deviation:  SAT    192.386474\n",
      "dtype: float64\n",
      "Sample mean:  SAT    1724.66\n",
      "dtype: float64\n",
      "---------------------------------------------------------\n",
      "t_value: 2.009575234489209\n",
      "Confidence intervals: \n",
      "lower_bound SAT    1654.385344\n",
      "dtype: float64\n",
      "upper_bound SAT    1756.814656\n",
      "dtype: float64\n",
      "*******\n",
      "Sample standard deviation:  SAT    180.208383\n",
      "dtype: float64\n",
      "Sample mean:  SAT    1705.6\n",
      "dtype: float64\n",
      "---------------------------------------------------------\n",
      "t_value: 2.009575234489209\n",
      "Confidence intervals: \n",
      "lower_bound SAT    1657.057507\n",
      "dtype: float64\n",
      "upper_bound SAT    1766.702493\n",
      "dtype: float64\n",
      "*******\n",
      "Sample standard deviation:  SAT    192.903237\n",
      "dtype: float64\n",
      "Sample mean:  SAT    1711.88\n",
      "dtype: float64\n",
      "---------------------------------------------------------\n",
      "t_value: 2.009575234489209\n",
      "Confidence intervals: \n",
      "lower_bound SAT    1607.946104\n",
      "dtype: float64\n",
      "upper_bound SAT    1719.413896\n",
      "dtype: float64\n",
      "*******\n",
      "Sample standard deviation:  SAT    196.110177\n",
      "dtype: float64\n",
      "Sample mean:  SAT    1663.68\n",
      "dtype: float64\n",
      "---------------------------------------------------------\n",
      "t_value: 2.009575234489209\n",
      "Confidence intervals: \n",
      "lower_bound SAT    1609.101966\n",
      "dtype: float64\n",
      "upper_bound SAT    1706.218034\n",
      "dtype: float64\n",
      "*******\n",
      "Sample standard deviation:  SAT    170.86056\n",
      "dtype: float64\n",
      "Sample mean:  SAT    1657.66\n",
      "dtype: float64\n",
      "---------------------------------------------------------\n",
      "t_value: 2.009575234489209\n",
      "Confidence intervals: \n",
      "lower_bound SAT    1655.516364\n",
      "dtype: float64\n",
      "upper_bound SAT    1764.163636\n",
      "dtype: float64\n",
      "*******\n",
      "Sample standard deviation:  SAT    191.147914\n",
      "dtype: float64\n",
      "Sample mean:  SAT    1709.84\n",
      "dtype: float64\n",
      "---------------------------------------------------------\n",
      "t_value: 2.009575234489209\n",
      "Confidence intervals: \n",
      "lower_bound SAT    1598.919818\n",
      "dtype: float64\n",
      "upper_bound SAT    1718.960182\n",
      "dtype: float64\n",
      "*******\n",
      "Sample standard deviation:  SAT    211.192282\n",
      "dtype: float64\n",
      "Sample mean:  SAT    1658.94\n",
      "dtype: float64\n",
      "---------------------------------------------------------\n",
      "t_value: 2.009575234489209\n",
      "Confidence intervals: \n",
      "lower_bound SAT    1666.33662\n",
      "dtype: float64\n",
      "upper_bound SAT    1759.06338\n",
      "dtype: float64\n",
      "*******\n",
      "Sample standard deviation:  SAT    163.13826\n",
      "dtype: float64\n",
      "Sample mean:  SAT    1712.7\n",
      "dtype: float64\n",
      "---------------------------------------------------------\n",
      "t_value: 2.009575234489209\n",
      "Confidence intervals: \n",
      "lower_bound SAT    1638.270117\n",
      "dtype: float64\n",
      "upper_bound SAT    1743.249883\n",
      "dtype: float64\n",
      "*******\n",
      "Sample standard deviation:  SAT    184.695509\n",
      "dtype: float64\n",
      "Sample mean:  SAT    1690.76\n",
      "dtype: float64\n",
      "---------------------------------------------------------\n",
      "t_value: 2.009575234489209\n",
      "Confidence intervals: \n",
      "lower_bound SAT    1713.581371\n",
      "dtype: float64\n",
      "upper_bound SAT    1814.778629\n",
      "dtype: float64\n",
      "*******\n",
      "Sample standard deviation:  SAT    178.040776\n",
      "dtype: float64\n",
      "Sample mean:  SAT    1764.18\n",
      "dtype: float64\n",
      "---------------------------------------------------------\n"
     ]
    }
   ],
   "source": [
    "for i in range(10):\n",
    "    shuffle_index = np.random.permutation(df.index)\n",
    "    temp_df = df.loc[shuffle_index]\n",
    "    sample = temp_df[:50]\n",
    "    sample_mean = np.mean(sample)\n",
    "    sample_std = np.std(sample, ddof=1)\n",
    "    conf_level = 0.95\n",
    "    t_value = t.ppf((1 + conf_level) / 2, df=len(sample) - 1)\n",
    "    print(\"t_value:\",t_value)\n",
    "    lower_bound = sample_mean - t_value * (sample_std / np.sqrt(len(sample)))\n",
    "    upper_bound = sample_mean + t_value * (sample_std / np.sqrt(len(sample)))\n",
    "\n",
    "    print(\"Confidence intervals: \")\n",
    "    print(\"lower_bound\",lower_bound)\n",
    "    print(\"upper_bound\",upper_bound)\n",
    "    print(\"*******\")\n",
    "    print(\"Sample standard deviation: \",sample_std)\n",
    "    print(\"Sample mean: \",sample_mean)\n",
    "    print(\"---------------------------------------------------------\")"
   ]
  },
  {
   "cell_type": "code",
   "execution_count": null,
   "id": "38d38a0f",
   "metadata": {},
   "outputs": [],
   "source": []
  }
 ],
 "metadata": {
  "kernelspec": {
   "display_name": "Python 3 (ipykernel)",
   "language": "python",
   "name": "python3"
  },
  "language_info": {
   "codemirror_mode": {
    "name": "ipython",
    "version": 3
   },
   "file_extension": ".py",
   "mimetype": "text/x-python",
   "name": "python",
   "nbconvert_exporter": "python",
   "pygments_lexer": "ipython3",
   "version": "3.9.12"
  }
 },
 "nbformat": 4,
 "nbformat_minor": 5
}
