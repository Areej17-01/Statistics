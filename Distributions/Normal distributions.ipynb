{
 "cells": [
  {
   "cell_type": "code",
   "execution_count": 12,
   "id": "e056fa47",
   "metadata": {},
   "outputs": [],
   "source": [
    "import matplotlib.pyplot as plt\n",
    "import pandas as pd\n",
    "import numpy as np\n",
    "from scipy import stats"
   ]
  },
  {
   "cell_type": "markdown",
   "id": "1b244ae1",
   "metadata": {},
   "source": [
    "mean=mu\n",
    "std=sigma"
   ]
  },
  {
   "cell_type": "code",
   "execution_count": 23,
   "id": "32cc0bfe",
   "metadata": {},
   "outputs": [],
   "source": [
    "mu, sigma = 5, 1 # mean and standard deviation\n",
    "s = np.random.normal(mu, sigma, 1000)"
   ]
  },
  {
   "cell_type": "code",
   "execution_count": 30,
   "id": "e37e12d7",
   "metadata": {},
   "outputs": [
    {
     "data": {
      "text/plain": [
       "array([5.21443316, 4.88110299, 5.59750331, 5.30815458, 3.57752163,\n",
       "       5.30562679, 4.5125748 , 5.17339205, 5.86498131, 3.75365224])"
      ]
     },
     "execution_count": 30,
     "metadata": {},
     "output_type": "execute_result"
    }
   ],
   "source": [
    "s[:10]"
   ]
  },
  {
   "cell_type": "markdown",
   "id": "6d9a5153",
   "metadata": {},
   "source": [
    "# or"
   ]
  },
  {
   "cell_type": "markdown",
   "id": "1e1f68e7",
   "metadata": {},
   "source": [
    "To generate a series of numbers that follow a normal distribution with a specified mean and standard deviation, you can use the following formula:\n",
    "\n",
    "X = μ + σZ\n",
    "\n",
    "where X is a random variable that follows a normal distribution with mean μ and standard deviation σ, and Z is a random variable that follows a standard normal distribution with a mean of 0 and a standard deviation of 1."
   ]
  },
  {
   "cell_type": "markdown",
   "id": "e56ac9f1",
   "metadata": {},
   "source": [
    "###### z=math.sqrt(-2.0 * math.log(u1)) * math.cos(2 * math.pi * u2)\n",
    "This formula transforms a uniform random variable u1 into a standard normal random variable Z, where sqrt is the square root function, log is the natural logarithm function, and cos is the cosine function. The value Z will have a mean of 0 and a standard deviation of 1. We can then use the formula X = μ + σZ to transform Z into a random variable X with mean μ and standard deviation σ."
   ]
  },
  {
   "cell_type": "code",
   "execution_count": 25,
   "id": "77689801",
   "metadata": {},
   "outputs": [
    {
     "name": "stdout",
     "output_type": "stream",
     "text": [
      "7.804070583992496\n",
      "7.258017952472572\n",
      "5.035231193046161\n",
      "2.498109779118866\n",
      "3.2023736926812116\n",
      "4.338419705948645\n",
      "2.4039090957173443\n",
      "6.548221367909681\n",
      "0.1628570354375265\n",
      "6.148910664550579\n"
     ]
    }
   ],
   "source": [
    "import random\n",
    "import math\n",
    "\n",
    "# Set mean and standard deviation\n",
    "mu = 5\n",
    "sigma = 2\n",
    "\n",
    "# Define function to generate random number from normal distribution\n",
    "def generate_normal(mu, sigma):\n",
    "    u1 = random.random()\n",
    "    u2 = random.random()\n",
    "    z = math.sqrt(-2.0 * math.log(u1)) * math.cos(2 * math.pi * u2)\n",
    "    x = mu + sigma * z\n",
    "    return x\n",
    "\n",
    "# Generate 10 random numbers from a normal distribution\n",
    "for i in range(10):\n",
    "    x = generate_normal(mu, sigma)\n",
    "    print(x)"
   ]
  },
  {
   "cell_type": "markdown",
   "id": "f86636f4",
   "metadata": {},
   "source": [
    "## Plots"
   ]
  },
  {
   "cell_type": "code",
   "execution_count": 26,
   "id": "2a8143d0",
   "metadata": {},
   "outputs": [
    {
     "data": {
      "image/png": "[encoded data removed]",
      "text/plain": [
       "<Figure size 432x288 with 1 Axes>"
      ]
     },
     "metadata": {
      "needs_background": "light"
     },
     "output_type": "display_data"
    }
   ],
   "source": [
    "marks=pd.Series(s)\n",
    "marks.plot.kde(label = \"marks\")\n",
    "\n",
    "plt.axvline(marks.mean(), color = \"green\",label=\"Mean\")\n",
    "plt.axvline(marks.median(), color = \"red\",label=\"Median\")\n",
    "plt.axvline(marks.mode().mean(), color = \"black\",label=\"Mode\")\n",
    "\n",
    "plt.legend()\n",
    "plt.show()"
   ]
  },
  {
   "cell_type": "code",
   "execution_count": 27,
   "id": "fe7253d4",
   "metadata": {
    "scrolled": false
   },
   "outputs": [
    {
     "data": {
      "image/png": "[encoded data removed]",
      "text/plain": [
       "<Figure size 288x288 with 1 Axes>"
      ]
     },
     "metadata": {
      "needs_background": "light"
     },
     "output_type": "display_data"
    }
   ],
   "source": [
    "nflx=s\n",
    "nflx = np.diff(np.log(nflx[nflx>0]))\n",
    "fig, ax = plt.subplots(figsize=(4, 4))\n",
    "values=stats.probplot(nflx, plot=ax)\n"
   ]
  },
  {
   "cell_type": "markdown",
   "id": "ed2b2bfb",
   "metadata": {},
   "source": [
    "##### doesnot shows extreme values ,which tells that it do  follows normal distribution as it is following the linear line."
   ]
  },
  {
   "cell_type": "code",
   "execution_count": 36,
   "id": "9ca39d5d",
   "metadata": {},
   "outputs": [
    {
     "data": {
      "text/plain": [
       "2"
      ]
     },
     "execution_count": 36,
     "metadata": {},
     "output_type": "execute_result"
    }
   ],
   "source": [
    "len(values)"
   ]
  },
  {
   "cell_type": "code",
   "execution_count": 35,
   "id": "49b49a33",
   "metadata": {},
   "outputs": [
    {
     "data": {
      "text/plain": [
       "((0.294160051759495, -0.00010506474028781881, 0.9993537277909798),)"
      ]
     },
     "execution_count": 35,
     "metadata": {},
     "output_type": "execute_result"
    }
   ],
   "source": [
    "values[1:2]"
   ]
  },
  {
   "cell_type": "markdown",
   "id": "8a66d53a",
   "metadata": {},
   "source": [
    "## explaination for Z"
   ]
  },
  {
   "cell_type": "markdown",
   "id": "665ee260",
   "metadata": {},
   "source": [
    "###### where x is the random variable, λ is the rate parameter, and exp is the exponential function. In this case, we can think of u1 as a random variable that follows a uniform distribution between 0 and 1. By taking the natural logarithm of u1 and multiplying by -2.0, we transform u1 into a value that follows an exponential distribution with rate parameter λ = 1/2.0.\n",
    "\n",
    "The second part of the formula, cos(2 * pi * u2), generates a value from a uniform distribution between -1 and 1. We can think of u2 as another random variable that follows a uniform distribution between 0 and 1. By multiplying u2 by 2 * pi and taking the cosine of the result, we transform u2 into a value that follows a uniform distribution between -1 and 1.\n",
    "\n",
    "Finally, we multiply the two parts of the formula together and take the square root to obtain a random variable Z that follows a standard normal distribution with mean 0 and standard deviation 1. This is because the product of an exponential distribution with rate parameter λ and a uniform distribution between -1 and 1 is a symmetric distribution that approaches a normal distribution as λ increases.\n",
    "\n",
    "We can then use the formula X = μ + σZ to transform Z into a random variable X with mean μ and standard deviation σ.\n",
    "\n",
    "\n",
    "\n",
    "\n"
   ]
  },
  {
   "cell_type": "code",
   "execution_count": null,
   "id": "579b495e",
   "metadata": {},
   "outputs": [],
   "source": []
  }
 ],
 "metadata": {
  "kernelspec": {
   "display_name": "Python 3 (ipykernel)",
   "language": "python",
   "name": "python3"
  },
  "language_info": {
   "codemirror_mode": {
    "name": "ipython",
    "version": 3
   },
   "file_extension": ".py",
   "mimetype": "text/x-python",
   "name": "python",
   "nbconvert_exporter": "python",
   "pygments_lexer": "ipython3",
   "version": "3.9.12"
  }
 },
 "nbformat": 4,
 "nbformat_minor": 5
}
