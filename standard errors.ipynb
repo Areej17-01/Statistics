{
 "cells": [
  {
   "cell_type": "code",
   "execution_count": 1,
   "id": "4e6e3c0f",
   "metadata": {},
   "outputs": [],
   "source": [
    "# ignore warning\n",
    "import warnings\n",
    "warnings.filterwarnings(\"ignore\")\n",
    "\n",
    "import numpy as np \n",
    "import pandas as pd \n",
    "import matplotlib.pyplot as plt\n",
    "import seaborn as sns\n",
    "data = pd.read_csv(\"Admission SAT.csv\")"
   ]
  },
  {
   "cell_type": "code",
   "execution_count": 2,
   "id": "7f51cad0",
   "metadata": {},
   "outputs": [
    {
     "data": {
      "text/plain": [
       "0      1363\n",
       "1      1792\n",
       "2      1954\n",
       "3      1653\n",
       "4      1593\n",
       "       ... \n",
       "163    1722\n",
       "164    1750\n",
       "165    1555\n",
       "166    1524\n",
       "167    1461\n",
       "Name: SAT, Length: 168, dtype: int64"
      ]
     },
     "execution_count": 2,
     "metadata": {},
     "output_type": "execute_result"
    }
   ],
   "source": [
    "data=data[\"SAT\"]\n",
    "data"
   ]
  },
  {
   "cell_type": "code",
   "execution_count": 3,
   "id": "fa6b8795",
   "metadata": {},
   "outputs": [],
   "source": [
    "# Set the number of bootstrap samples to generate\n",
    "n_samples = 1000\n",
    "\n",
    "# Create an empty array to store the bootstrap samples\n",
    "bootstrap_samples = np.empty((n_samples, len(data)))\n",
    "len(bootstrap_samples[0])\n",
    "# Generate the bootstrap samples\n",
    "for i in range(n_samples):\n",
    "    # Draw a sample of the same size as the original dataset, with replacement\n",
    "    bootstrap_sample = np.random.choice(data, size=len(data), replace=True)\n",
    "\n",
    "#here we are taking out random samples of size 168(data length) and it takes out a number place it in list replace it and continues\n",
    "\n",
    "    bootstrap_samples[i] = bootstrap_sample\n",
    "\n",
    "# Calculate the mean of each bootstrap sample\n",
    "means = np.mean(bootstrap_samples, axis=1)\n",
    "\n"
   ]
  },
  {
   "cell_type": "markdown",
   "id": "94dee66f",
   "metadata": {},
   "source": [
    "## Calculate the standard error of the mean"
   ]
  },
  {
   "cell_type": "markdown",
   "id": "18b4b76f",
   "metadata": {},
   "source": [
    "This means that if we were to repeat the sampling process many times, and calculate the mean score for each sample, we would expect the means to vary by about 14.2221 on average. The standard error gives us an idea of how much sampling error we might expect when estimating the population mean from a single sample"
   ]
  },
  {
   "cell_type": "code",
   "execution_count": 6,
   "id": "8468bd4b",
   "metadata": {},
   "outputs": [
    {
     "data": {
      "text/plain": [
       "14.222149519446045"
      ]
     },
     "execution_count": 6,
     "metadata": {},
     "output_type": "execute_result"
    }
   ],
   "source": [
    "\n",
    "se_mean = np.std(means)\n",
    "\n",
    "se_mean\n"
   ]
  },
  {
   "cell_type": "code",
   "execution_count": null,
   "id": "b7c0cb00",
   "metadata": {},
   "outputs": [],
   "source": []
  },
  {
   "cell_type": "markdown",
   "id": "41b62528",
   "metadata": {},
   "source": [
    "### EXPLAINATION"
   ]
  },
  {
   "cell_type": "markdown",
   "id": "6b1915e3",
   "metadata": {},
   "source": [
    "In statistics, the standard error is a measure of the variability of a sample statistic, such as the mean or standard deviation, across different samples. It represents the standard deviation of the sampling distribution of the statistic, and provides a measure of how accurately the sample statistic represents the corresponding population parameter.\n",
    "\n",
    "Here's an example to help illustrate the concept of standard error:\n",
    "\n",
    "Suppose we are interested in estimating the average height of students at a particular university. We take a random sample of 100 students from the university, and measure their heights. The sample mean height turns out to be 175 cm, and the sample standard deviation is 8 cm."
   ]
  },
  {
   "cell_type": "markdown",
   "id": "e264dabb",
   "metadata": {},
   "source": [
    "The standard error of the mean can be calculated as:`"
   ]
  },
  {
   "cell_type": "markdown",
   "id": "488777ff",
   "metadata": {},
   "source": [
    "SE = s / sqrt(n)"
   ]
  },
  {
   "cell_type": "markdown",
   "id": "023214df",
   "metadata": {},
   "source": [
    "where s is the sample standard deviation, and n is the sample size. In our example, the standard error of the mean would be:\n",
    "\n"
   ]
  },
  {
   "cell_type": "markdown",
   "id": "0bcac5dd",
   "metadata": {},
   "source": [
    "SE = 8 / sqrt(100) = 0.8"
   ]
  },
  {
   "cell_type": "markdown",
   "id": "fd972344",
   "metadata": {},
   "source": [
    "This means that if we were to repeat the sampling process many times, and calculate the mean height for each sample, we would expect the means to vary by about 0.8 cm on average. The standard error gives us an idea of how much sampling error we might expect when estimating the population mean from a single sample.\n",
    "\n",
    "Note that the standard error can also be used to calculate confidence intervals for the population parameter of interest. In our example, a 95% confidence interval for the population mean height would be:"
   ]
  },
  {
   "cell_type": "markdown",
   "id": "4535e691",
   "metadata": {},
   "source": [
    "CI = (175 - 1.96*0.8, 175 + 1.96*0.8)\n",
    "   = (173.4, 176.6)\n"
   ]
  },
  {
   "cell_type": "code",
   "execution_count": null,
   "id": "408306d7",
   "metadata": {},
   "outputs": [],
   "source": []
  }
 ],
 "metadata": {
  "kernelspec": {
   "display_name": "Python 3 (ipykernel)",
   "language": "python",
   "name": "python3"
  },
  "language_info": {
   "codemirror_mode": {
    "name": "ipython",
    "version": 3
   },
   "file_extension": ".py",
   "mimetype": "text/x-python",
   "name": "python",
   "nbconvert_exporter": "python",
   "pygments_lexer": "ipython3",
   "version": "3.9.12"
  }
 },
 "nbformat": 4,
 "nbformat_minor": 5
}
